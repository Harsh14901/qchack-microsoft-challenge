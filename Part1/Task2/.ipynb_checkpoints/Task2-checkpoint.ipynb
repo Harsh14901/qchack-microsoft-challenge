{
 "cells": [
  {
   "cell_type": "code",
   "execution_count": 5,
   "id": "6333ee98",
   "metadata": {},
   "outputs": [
    {
     "data": {
      "application/json": "[\"Task2_ValidTriangle\"]",
      "text/html": [
       "<ul><li>Task2_ValidTriangle</li></ul>"
      ],
      "text/plain": [
       "Task2_ValidTriangle"
      ]
     },
     "execution_count": 5,
     "metadata": {},
     "output_type": "execute_result"
    }
   ],
   "source": [
    "\n",
    "//namespace QCHack.Task2 {\n",
    "    open Microsoft.Quantum.Canon;\n",
    "    open Microsoft.Quantum.Intrinsic;\n",
    "\n",
    "    // Task 2 (2 points). f(x) = 1 if at least two of three input bits are different - easy version\n",
    "    //\n",
    "    // Inputs:\n",
    "    //      1) a 3-qubit array \"inputs\",\n",
    "    //      2) a qubit \"output\".\n",
    "    // Goal: Implement a marking oracle for function f(x) = 1 if at least two of the three bits of x are different.\n",
    "    //       That is, if both inputs are in a basis state, flip the state of the output qubit \n",
    "    //       if and only if the three bits written in the array \"inputs\" have both 0 and 1 among them,\n",
    "    //       and leave the state of the array \"inputs\" unchanged.\n",
    "    //       The effect of the oracle on superposition states should be defined by its linearity.\n",
    "    //       Don't use measurements; the implementation should use only X gates and its controlled variants.\n",
    "    //       This task will be tested using ToffoliSimulator.\n",
    "    // \n",
    "    // For example, the result of applying the operation to state (|001⟩ + |110⟩ + |111⟩)/√3 ⊗ |0⟩\n",
    "    // will be 1/√3|001⟩ ⊗ |1⟩ + 1/√3|110⟩ ⊗ |1⟩ + 1/√3|111⟩ ⊗ |0⟩.\n",
    "    //\n",
    "    operation Task2_ValidTriangle (qs : Qubit[], output : Qubit) : Unit is Adj+Ctl {\n",
    "        // ...\n",
    "        CNOT(qs[1], qs[2]);\n",
    "        CNOT(qs[0], qs[1]);\n",
    "        X(qs[1]);\n",
    "        X(qs[2]);\n",
    "        \n",
    "        CCNOT(qs[1], qs[2], output);\n",
    "        X(output);\n",
    "        \n",
    "        X(qs[2]);\n",
    "        X(qs[1]);\n",
    "        CNOT(qs[0], qs[1]);\n",
    "        CNOT(qs[1], qs[2]);\n",
    "        \n",
    "    }\n",
    "//}\n",
    "\n"
   ]
  },
  {
   "cell_type": "code",
   "execution_count": 6,
   "id": "530363b6",
   "metadata": {},
   "outputs": [
    {
     "data": {
      "application/json": "[\"VerifySingleOutputFunction\",\"IsTriangleValid\",\"Test2_ValidTriangle\"]",
      "text/html": [
       "<ul><li>VerifySingleOutputFunction</li><li>IsTriangleValid</li><li>Test2_ValidTriangle</li></ul>"
      ],
      "text/plain": [
       "VerifySingleOutputFunction, IsTriangleValid, Test2_ValidTriangle"
      ]
     },
     "execution_count": 6,
     "metadata": {},
     "output_type": "execute_result"
    }
   ],
   "source": [
    "//namespace QCHack.Task2 {\n",
    "    open Microsoft.Quantum.Arrays;\n",
    "    open Microsoft.Quantum.Arithmetic;\n",
    "    open Microsoft.Quantum.Canon;\n",
    "    open Microsoft.Quantum.Convert;\n",
    "    open Microsoft.Quantum.Diagnostics;\n",
    "    open Microsoft.Quantum.Intrinsic;\n",
    "    open Microsoft.Quantum.Logical;\n",
    "    open Microsoft.Quantum.Math;\n",
    "    open Microsoft.Quantum.Measurement;\n",
    "\n",
    "\n",
    "    internal operation VerifySingleOutputFunction(numInputs : Int, op : ((Qubit[], Qubit) => Unit is Adj+Ctl), predicate : (Int -> Bool)) : Unit {\n",
    "        for assignment in 0 .. 2^numInputs - 1 {\n",
    "            use (inputs, output) = (Qubit[numInputs], Qubit());\n",
    "            within {\n",
    "                ApplyXorInPlace(assignment, LittleEndian(inputs));\n",
    "                AllowAtMostNCallsCA(0, Measure, \"You are not allowed to use measurements\");\n",
    "            } apply {\n",
    "                op(inputs, output);\n",
    "            }\n",
    "\n",
    "            // Check that the result is expected\n",
    "            let actual = ResultAsBool(MResetZ(output));\n",
    "            let expected = predicate(assignment);\n",
    "            Fact(actual == expected,\n",
    "                $\"Oracle evaluation result {actual} does not match expected {expected} for assignment {IntAsBoolArray(assignment, numInputs)}\");\n",
    "\n",
    "            // Check that the inputs were not modified\n",
    "            Fact(MeasureInteger(LittleEndian(inputs)) == 0, \n",
    "                $\"The input states were modified for assignment {assignment}\");\n",
    "        }\n",
    "    }\n",
    "\n",
    "\n",
    "    // ------------------------------------------------------\n",
    "    internal function IsTriangleValid (input : Int) : Bool {\n",
    "        // the triangle is valid if it has at least two different bits (i.e., not all are the same)\n",
    "        return input > 0 and input < 7;\n",
    "    }\n",
    "\n",
    "    //@Test(\"ToffoliSimulator\")\n",
    "    operation Test2_ValidTriangle() : Unit {\n",
    "        VerifySingleOutputFunction(3, Task2_ValidTriangle, IsTriangleValid);\n",
    "    }\n",
    "//}\n"
   ]
  },
  {
   "cell_type": "code",
   "execution_count": 7,
   "id": "ec66c7e1",
   "metadata": {},
   "outputs": [
    {
     "data": {
      "application/json": "{\"@type\":\"tuple\"}",
      "text/plain": [
       "()"
      ]
     },
     "execution_count": 7,
     "metadata": {},
     "output_type": "execute_result"
    }
   ],
   "source": [
    "%toffoli Test2_ValidTriangle"
   ]
  },
  {
   "cell_type": "code",
   "execution_count": null,
   "id": "e4b3a5bc",
   "metadata": {},
   "outputs": [],
   "source": []
  }
 ],
 "metadata": {
  "kernelspec": {
   "display_name": "Q#",
   "language": "qsharp",
   "name": "iqsharp"
  },
  "language_info": {
   "file_extension": ".qs",
   "mimetype": "text/x-qsharp",
   "name": "qsharp",
   "version": "0.14"
  }
 },
 "nbformat": 4,
 "nbformat_minor": 5
}
