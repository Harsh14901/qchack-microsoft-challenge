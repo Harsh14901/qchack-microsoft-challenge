{
 "cells": [
  {
   "cell_type": "code",
   "execution_count": 13,
   "id": "b8c81ab0",
   "metadata": {},
   "outputs": [
    {
     "data": {
      "application/json": "[\"Task1_DivisibleByFour\"]",
      "text/html": [
       "<ul><li>Task1_DivisibleByFour</li></ul>"
      ],
      "text/plain": [
       "Task1_DivisibleByFour"
      ]
     },
     "execution_count": 13,
     "metadata": {},
     "output_type": "execute_result"
    }
   ],
   "source": [
    "//namespace QCHack.Task1 {\n",
    "    open Microsoft.Quantum.Canon;\n",
    "    open Microsoft.Quantum.Intrinsic;\n",
    "\n",
    "    // Task 1 (1 point). f(x) = 1 if x is divisible by 4\n",
    "    //         \n",
    "    // Inputs:\n",
    "    //      1) an N-qubit array \"inputs\" (3 ≤ N ≤ 5),\n",
    "    //      2) a qubit \"output\".\n",
    "    // Goal: Implement a marking oracle for function f(x) = 1 if x is divisible by 4.\n",
    "    //       That is, if both inputs are in a basis state, flip the state of the output qubit \n",
    "    //       if and only if the number written in the array \"inputs\" is divisible by 4,\n",
    "    //       and leave the state of the array \"inputs\" unchanged.\n",
    "    //       The array \"inputs\" uses little-endian encoding, i.e., \n",
    "    //       the least significant bit of the integer is stored first.\n",
    "    //       The effect of the oracle on superposition states should be defined by its linearity.\n",
    "    //       Don't use measurements; the implementation should use only X gates and its controlled variants.\n",
    "    //       This task will be tested using ToffoliSimulator.\n",
    "    // \n",
    "    // Example: the result of applying the oracle to a state (|001⟩ + |100⟩ + |111⟩)/√3 ⊗ |0⟩\n",
    "    // will be 1/√3|001⟩ ⊗ |1⟩ + 1/√3|100⟩ ⊗ |0⟩ + 1/√3|111⟩ ⊗ |0⟩.\n",
    "    //\n",
    "    operation Task1_DivisibleByFour (inputs : Qubit[], output : Qubit) : Unit is Adj+Ctl {\n",
    "        // ...\n",
    "        X(inputs[0]);\n",
    "        X(inputs[1]);\n",
    "        CCNOT(inputs[0],inputs[1], output);\n",
    "        X(inputs[1]);\n",
    "        X(inputs[0]);\n",
    "    }\n",
    "//}\n",
    "\n"
   ]
  },
  {
   "cell_type": "code",
   "execution_count": 12,
   "id": "22415d6f",
   "metadata": {},
   "outputs": [
    {
     "name": "stderr",
     "output_type": "stream",
     "text": [
      ": error IQS000: Could not compile Roslyn dll from working folder.\n",
      ": error CS0246: The type or namespace name 'Xunit' could not be found (are you missing a using directive or an assembly reference?)\n",
      ": error CS0246: The type or namespace name 'Xunit' could not be found (are you missing a using directive or an assembly reference?)\n",
      ": error CS0246: The type or namespace name 'Xunit' could not be found (are you missing a using directive or an assembly reference?)\n",
      ": error CS0246: The type or namespace name 'Xunit' could not be found (are you missing a using directive or an assembly reference?)\n",
      ": error CS0246: The type or namespace name 'Xunit' could not be found (are you missing a using directive or an assembly reference?)\n",
      ": error CS0103: The name 'Xunit' does not exist in the current context\n"
     ]
    }
   ],
   "source": [
    "//namespace QCHack.Task1 {\n",
    "    open Microsoft.Quantum.Arrays;\n",
    "    open Microsoft.Quantum.Arithmetic;\n",
    "    open Microsoft.Quantum.Canon;\n",
    "    open Microsoft.Quantum.Convert;\n",
    "    open Microsoft.Quantum.Diagnostics;\n",
    "    open Microsoft.Quantum.Intrinsic;\n",
    "    open Microsoft.Quantum.Logical;\n",
    "    open Microsoft.Quantum.Math;\n",
    "    open Microsoft.Quantum.Measurement;\n",
    "\n",
    "\n",
    "    internal operation VerifySingleOutputFunction(numInputs : Int, op : ((Qubit[], Qubit) => Unit is Adj+Ctl), predicate : (Int -> Bool)) : Unit {\n",
    "        for assignment in 0 .. 2^numInputs - 1 {\n",
    "            use (inputs, output) = (Qubit[numInputs], Qubit());\n",
    "            within {\n",
    "                ApplyXorInPlace(assignment, LittleEndian(inputs));\n",
    "                AllowAtMostNCallsCA(0, Measure, \"You are not allowed to use measurements\");\n",
    "            } apply {\n",
    "                op(inputs, output);\n",
    "            }\n",
    "\n",
    "            // Check that the result is expected\n",
    "            let actual = ResultAsBool(MResetZ(output));\n",
    "            let expected = predicate(assignment);\n",
    "            Fact(actual == expected,\n",
    "                $\"Oracle evaluation result {actual} does not match expected {expected} for assignment {IntAsBoolArray(assignment, numInputs)}\");\n",
    "\n",
    "            // Check that the inputs were not modified\n",
    "            Fact(MeasureInteger(LittleEndian(inputs)) == 0, \n",
    "                $\"The input states were modified for assignment {assignment}\");\n",
    "        }\n",
    "    }\n",
    "\n",
    "\n",
    "    // ------------------------------------------------------\n",
    "    internal function IsDivisibleByFour (input : Int) : Bool {\n",
    "        return input % 4 == 0;\n",
    "    }\n",
    "\n",
    "    @Test(\"ToffoliSimulator\")\n",
    "    operation Test1_DivisibleByFour() : Unit {\n",
    "        for i in 3 .. 5 {\n",
    "            VerifySingleOutputFunction(3, Task1_DivisibleByFour, IsDivisibleByFour);\n",
    "        }\n",
    "    }\n",
    "\n"
   ]
  },
  {
   "cell_type": "code",
   "execution_count": null,
   "id": "ae16f181",
   "metadata": {},
   "outputs": [],
   "source": []
  }
 ],
 "metadata": {
  "kernelspec": {
   "display_name": "Q#",
   "language": "qsharp",
   "name": "iqsharp"
  },
  "language_info": {
   "file_extension": ".qs",
   "mimetype": "text/x-qsharp",
   "name": "qsharp",
   "version": "0.14"
  }
 },
 "nbformat": 4,
 "nbformat_minor": 5
}
